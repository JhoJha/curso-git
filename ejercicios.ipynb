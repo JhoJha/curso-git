{
 "cells": [
  {
   "cell_type": "markdown",
   "id": "55a216f4",
   "metadata": {},
   "source": [
    "🧠 Nivel 1: Básico"
   ]
  },
  {
   "cell_type": "markdown",
   "id": "24f7a37e",
   "metadata": {},
   "source": [
    "Suma de elementos en una lista\n",
    "\n",
    "Dada una lista de números, imprime la suma total usando un bucle."
   ]
  },
  {
   "cell_type": "code",
   "execution_count": 3,
   "id": "7818891c",
   "metadata": {},
   "outputs": [
    {
     "name": "stdout",
     "output_type": "stream",
     "text": [
      "La suma es : 45\n"
     ]
    }
   ],
   "source": [
    "lista = [1,2,3,4,5,6,7,8,9,]\n",
    "sum = 0\n",
    "for i in lista:\n",
    "    sum += i\n",
    "\n",
    "print(f\"La suma es : {sum}\")\n"
   ]
  },
  {
   "cell_type": "markdown",
   "id": "8a6d0682",
   "metadata": {},
   "source": [
    "Contar elementos mayores que 5\n",
    "\n",
    "Cuenta cuántos elementos en la lista son mayores que 5."
   ]
  },
  {
   "cell_type": "code",
   "execution_count": 4,
   "id": "f7bcf6bc",
   "metadata": {},
   "outputs": [
    {
     "name": "stdout",
     "output_type": "stream",
     "text": [
      "La cantidad de numeros mayores que 5 es : 7\n"
     ]
    }
   ],
   "source": [
    "list1 = [4,2,56,65,324,123,54,43,1,23,1,0]\n",
    "conta = 0\n",
    "for i in list1:\n",
    "    if i > 5:\n",
    "        conta += 1\n",
    "    \n",
    "print(f\"La cantidad de numeros mayores que 5 es : {conta}\")"
   ]
  },
  {
   "cell_type": "markdown",
   "id": "ee590a45",
   "metadata": {},
   "source": [
    "Encontrar el número mayor\n",
    "\n",
    "Escribe un programa que recorra una lista y devuelva el número más grande."
   ]
  },
  {
   "cell_type": "code",
   "execution_count": 5,
   "id": "cad312b7",
   "metadata": {},
   "outputs": [
    {
     "name": "stdout",
     "output_type": "stream",
     "text": [
      "El numero mayor de la lista es: 5435135\n"
     ]
    }
   ],
   "source": [
    "lista1 = [1,2,3,4,5,88,77,954,6542,1,5435135,545435,5]\n",
    "min = -100000000000000000\n",
    "for i in lista1:\n",
    "    if i > min:\n",
    "        min = i\n",
    "print(f\"El numero mayor de la lista es: {min}\")"
   ]
  }
 ],
 "metadata": {
  "kernelspec": {
   "display_name": "base",
   "language": "python",
   "name": "python3"
  },
  "language_info": {
   "codemirror_mode": {
    "name": "ipython",
    "version": 3
   },
   "file_extension": ".py",
   "mimetype": "text/x-python",
   "name": "python",
   "nbconvert_exporter": "python",
   "pygments_lexer": "ipython3",
   "version": "3.12.7"
  }
 },
 "nbformat": 4,
 "nbformat_minor": 5
}
