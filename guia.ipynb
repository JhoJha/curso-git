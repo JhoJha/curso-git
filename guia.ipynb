{
 "cells": [
  {
   "cell_type": "markdown",
   "id": "6f5f2cde",
   "metadata": {},
   "source": [
    "# Esta es mi guia de prueba\n",
    "Estoy practicando que tal me va con github\n",
    "no soy muy bueno en esto pero me voy a esforzar en ser el mejor\n",
    "todo en esta vida se consigue con esfuerzo y trabajo\n",
    "## DIOS ES GRANDE"
   ]
  },
  {
   "cell_type": "code",
   "execution_count": 2,
   "id": "4dc59832",
   "metadata": {},
   "outputs": [
    {
     "name": "stdout",
     "output_type": "stream",
     "text": [
      "Ambos numeros son iguales\n"
     ]
    }
   ],
   "source": [
    "#este codigo es de prueba para ver como se trabaja en local y luego se hace un push\n",
    "x = int(input(\"Ingrese el numero a evaluar: \"))\n",
    "z = int(input(\"Ingrese otro numero a evaluar: \"))\n",
    "if x > z:\n",
    "    print(f\"El numero mayor es: {x}\")\n",
    "elif x < z:\n",
    "    print(f\"El número mayor es: {z}\")\n",
    "else:\n",
    "    print(f\"Ambos numeros son iguales\")"
   ]
  }
 ],
 "metadata": {
  "kernelspec": {
   "display_name": "base",
   "language": "python",
   "name": "python3"
  },
  "language_info": {
   "codemirror_mode": {
    "name": "ipython",
    "version": 3
   },
   "file_extension": ".py",
   "mimetype": "text/x-python",
   "name": "python",
   "nbconvert_exporter": "python",
   "pygments_lexer": "ipython3",
   "version": "3.12.7"
  }
 },
 "nbformat": 4,
 "nbformat_minor": 5
}
